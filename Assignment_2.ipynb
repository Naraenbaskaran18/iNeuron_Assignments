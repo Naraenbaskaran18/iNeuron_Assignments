{
 "cells": [
  {
   "cell_type": "raw",
   "id": "f801d588",
   "metadata": {},
   "source": [
    "1.What are the two values of the Boolean data type? How do you write them?\n",
    "\n",
    "True: Represents a true or affirmative condition. It is typically written as the keyword True.\n",
    "False: Represents a false or negative condition. It is typically written as the keyword False."
   ]
  },
  {
   "cell_type": "raw",
   "id": "45dd2ddc",
   "metadata": {},
   "source": [
    "2.What are the three different types of Boolean operators?\n",
    "\n",
    "AND, OR & NOT"
   ]
  },
  {
   "cell_type": "raw",
   "id": "44461440",
   "metadata": {},
   "source": [
    "3. Make a list of each Boolean operator&#39;s truth tables (i.e. every possible combination of Boolean\n",
    "values for the operator and what it evaluate ).\n",
    "\n",
    "1. Logical AND (`and`):\n",
    "\n",
    " Operand 1  Operand 2  Result \n",
    " True       True       True   \n",
    " True       False      False  \n",
    " False      True       False  \n",
    " False      False      False  \n",
    "\n",
    "\n",
    "2. Logical OR (`or`):\n",
    "\n",
    " Operand 1  Operand 2  Result \n",
    " True       True       True   \n",
    " True       False      True  \n",
    " False      True       True  \n",
    " False      False      False  \n",
    "\n",
    "\n",
    "3. Logical NOT (`not`):\n",
    "\n",
    " Operand  Result\n",
    " True     False       \n",
    " False    True       "
   ]
  },
  {
   "cell_type": "raw",
   "id": "8c1baa9e",
   "metadata": {},
   "source": [
    "4. What are the values of the following expressions?\n",
    "\n",
    "(5 > 4) and (3 == 5) - False\n",
    "not (5 > 4) - False\n",
    "(5 > 4) or (3 == 5) - True\n",
    "not ((5 > 4) or (3 == 5)) - False\n",
    "(True and True) and (True == False) - False\n",
    "(not False) or (not True) - True"
   ]
  },
  {
   "cell_type": "raw",
   "id": "23aae3ff",
   "metadata": {},
   "source": [
    "5. What are the six comparison operators?\n",
    "\n",
    "Equal to (==)\n",
    "Not equal to (!=)\n",
    "Greater than (>)\n",
    "Less than (<)\n",
    "Greater than or equal to (>=)\n",
    "Less than or equal to (<=)"
   ]
  },
  {
   "cell_type": "raw",
   "id": "8c052ce6",
   "metadata": {},
   "source": [
    "6. How do you tell the difference between the equal to and assignment operators?Describe a\n",
    "condition and when you would use one.\n",
    "\n",
    "x = 5\n",
    "y = x\n",
    "\n",
    "if x == y: \n",
    "    print (\"x is equal to y\")\n",
    "\n",
    "In this x = 5 is assigment operator and x == y is equal to operator."
   ]
  },
  {
   "cell_type": "raw",
   "id": "3096248e",
   "metadata": {},
   "source": [
    "7. Identify the three blocks in this code:\n",
    "spam = 0\n",
    "if spam == 10:\n",
    "print('eggs')\n",
    "if spam > 5:\n",
    "print('bacon')\n",
    "else:\n",
    "print('ham')\n",
    "print('spam')\n",
    "print('spam')\n",
    "\n",
    "Block 1:\n",
    " if spam == 10:\n",
    " print('eggs')\n",
    " \n",
    "Block 2:\n",
    " if spam > 5:\n",
    " print('bacon')\n",
    " \n",
    "Block 3:\n",
    " else:\n",
    " print('ham')\n",
    " print('spam')\n",
    " print('spam')"
   ]
  },
  {
   "cell_type": "raw",
   "id": "824f1aa0",
   "metadata": {},
   "source": [
    "8. Write code that prints Hello if 1 is stored in spam, prints Howdy if 2 is stored in spam, and prints\n",
    "Greetings! if anything else is stored in spam."
   ]
  },
  {
   "cell_type": "code",
   "execution_count": 13,
   "id": "092b1411",
   "metadata": {},
   "outputs": [
    {
     "name": "stdout",
     "output_type": "stream",
     "text": [
      "Enter the value to store in spam : 1\n",
      "Hello\n"
     ]
    }
   ],
   "source": [
    "spam = int(input(\"Enter the value to store in spam : \"))\n",
    "if spam == 1:\n",
    "    print(\"Hello\")\n",
    "elif spam == 2:\n",
    "    print(\"Howdy\")\n",
    "else:\n",
    "    print(\"Greetings\")"
   ]
  },
  {
   "cell_type": "raw",
   "id": "96dee70e",
   "metadata": {},
   "source": [
    "9.If your programme is stuck in an endless loop, what keys you’ll press?\n",
    "\n",
    "ctrl + c - The program's execution will be halted,"
   ]
  },
  {
   "cell_type": "raw",
   "id": "39423823",
   "metadata": {},
   "source": [
    "10. How can you tell the difference between break and continue?\n",
    "\n",
    "break statement:\n",
    "The break statement is used to immediately terminate the execution of the innermost loop (such as for or while loop) and move to the next statement outside the loop.\n",
    "\n",
    "continue statement:\n",
    "The continue statement is used to skip the remaining code within a loop iteration and move to the next iteration.\n",
    "When encountered, the continue statement jumps to the next iteration without executing any code below it within the loop."
   ]
  },
  {
   "cell_type": "raw",
   "id": "7f9bbc40",
   "metadata": {},
   "source": [
    "11. In a for loop, what is the difference between range(10), range(0, 10), and range(0, 10, 1)?\n",
    "\n",
    "range(10) - It prints 0 to 9 \n",
    "range(0, 10)  -  It prints 0 to 9\n",
    "range(0, 10, 1) - It prints 0 to 9 on a jump of 1"
   ]
  },
  {
   "cell_type": "raw",
   "id": "c31c2c7b",
   "metadata": {},
   "source": [
    "12. Write a short program that prints the numbers 1 to 10 using a for loop. Then write an equivalent\n",
    "program that prints the numbers 1 to 10 using a while loop."
   ]
  },
  {
   "cell_type": "code",
   "execution_count": 15,
   "id": "72c9729c",
   "metadata": {},
   "outputs": [
    {
     "name": "stdout",
     "output_type": "stream",
     "text": [
      "1\n",
      "2\n",
      "3\n",
      "4\n",
      "5\n",
      "6\n",
      "7\n",
      "8\n",
      "9\n",
      "10\n"
     ]
    }
   ],
   "source": [
    "for i in range(1,11):\n",
    "    print(i)"
   ]
  },
  {
   "cell_type": "code",
   "execution_count": 19,
   "id": "e8b27ef5",
   "metadata": {},
   "outputs": [
    {
     "name": "stdout",
     "output_type": "stream",
     "text": [
      "1\n",
      "2\n",
      "3\n",
      "4\n",
      "5\n",
      "6\n",
      "7\n",
      "8\n",
      "9\n",
      "10\n"
     ]
    }
   ],
   "source": [
    "i = 1\n",
    "while (i <= 10):\n",
    "    print(i)\n",
    "    i +=1"
   ]
  },
  {
   "cell_type": "raw",
   "id": "2d1fd0ef",
   "metadata": {},
   "source": [
    "13. If you had a function named bacon() inside a module named spam, how would you call it after\n",
    "importing spam?\n",
    "\n",
    "import spam\n",
    "\n",
    "spam.bacon()\n"
   ]
  }
 ],
 "metadata": {
  "kernelspec": {
   "display_name": "Python 3 (ipykernel)",
   "language": "python",
   "name": "python3"
  },
  "language_info": {
   "codemirror_mode": {
    "name": "ipython",
    "version": 3
   },
   "file_extension": ".py",
   "mimetype": "text/x-python",
   "name": "python",
   "nbconvert_exporter": "python",
   "pygments_lexer": "ipython3",
   "version": "3.9.7"
  }
 },
 "nbformat": 4,
 "nbformat_minor": 5
}
