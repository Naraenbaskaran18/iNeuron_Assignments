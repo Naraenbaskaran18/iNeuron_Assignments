{
 "cells": [
  {
   "cell_type": "raw",
   "id": "1295814f",
   "metadata": {},
   "source": [
    "1. In the below elements which of them are values or an expression? eg:- values can be\n",
    "integer or string and expressions will be mathematical operators.\n",
    "\n",
    "* - mathematical \n",
    "'hello' - value\n",
    "-87.8 - value\n",
    "- - mathematical\n",
    "/ - mathematical\n",
    "+ - mathematical\n",
    "6 - value"
   ]
  },
  {
   "cell_type": "raw",
   "id": "42ec7273",
   "metadata": {},
   "source": [
    "2. What is the difference between string and variable?\n",
    "\n",
    "String is nothing but an datatype which stores an sequence of characters like letters, numbers, symbols & whitespace. It is denoted as str.\n",
    "\n",
    "Varaible is nothing but an memory container to store an data and manipulate the data. "
   ]
  },
  {
   "cell_type": "raw",
   "id": "2064ec28",
   "metadata": {},
   "source": [
    "3. Describe three different data types.\n",
    "\n",
    "List - It is mutable and ordered. It is denoted by square brackets.\n",
    "tuple - It is immuntable and ordered. It is denoted by brackets.\n",
    "dict - It is unordered and stores the value in key-value pairs."
   ]
  },
  {
   "cell_type": "raw",
   "id": "48fc2450",
   "metadata": {},
   "source": [
    "4. What is an expression made up of? What do all expressions do?\n",
    "\n",
    "An expression is made up of one or more operands and operators.\n",
    "\n",
    "Operands: These are the values or entities that the expression operates on. They can be variables, constants, or function calls that return values. For example, in the expression 2 + 3, the operands are the numbers 2 and 3.\n",
    "\n",
    "Operators: Operators define the operations to be performed on the operands. They can perform arithmetic operations, logical comparisons, assignment, and more. For example, the + operator in 2 + 3 performs addition on the operands."
   ]
  },
  {
   "cell_type": "raw",
   "id": "c2e0eafe",
   "metadata": {},
   "source": [
    "5. This assignment statements, like spam = 10. What is the difference between an\n",
    "expression and a statement?\n",
    "\n",
    "In this, spam = 10 is an assignment statement. It assigns 10 to the variable name called spam.\n",
    "\n",
    "Experession is made up of one or more operands and operators"
   ]
  },
  {
   "cell_type": "raw",
   "id": "a31893e9",
   "metadata": {},
   "source": [
    "6. After running the following code, what does the variable bacon contain?\n",
    "bacon = 22\n",
    "bacon + 1\n",
    "\n",
    "It still contains 22 only."
   ]
  },
  {
   "cell_type": "raw",
   "id": "9165070b",
   "metadata": {},
   "source": [
    "7. What should the values of the following two terms be?\n",
    "\n",
    "'spam' + 'spamspam'  - spamspamspam\n",
    "'spam' * 3  - spamspamspam"
   ]
  },
  {
   "cell_type": "raw",
   "id": "0e2e9fa7",
   "metadata": {},
   "source": [
    "8. Why is eggs a valid variable name while 100 is invalid?\n",
    "\n",
    "The 'eggs' is a valid variable name, while '100' is invalid due to its starting character being a number."
   ]
  },
  {
   "cell_type": "raw",
   "id": "ab7aff67",
   "metadata": {},
   "source": [
    "9. What three functions can be used to get the integer, floating-point number, or string\n",
    "version of a value?\n",
    "\n",
    "int()\n",
    "float()\n",
    "str()"
   ]
  },
  {
   "cell_type": "raw",
   "id": "4e2c7155",
   "metadata": {},
   "source": [
    "10. Why does this expression cause an error? How can you fix it?\n",
    "'I have eaten'  + 99 +  'burritos.'\n",
    "\n",
    "In this str is trying to add with int directly. So, it cause an error.\n",
    "To fix it we can convert int to str by the following way.\n",
    "'I have eaten'  + str(99) +  'burritos.'"
   ]
  }
 ],
 "metadata": {
  "kernelspec": {
   "display_name": "Python 3 (ipykernel)",
   "language": "python",
   "name": "python3"
  },
  "language_info": {
   "codemirror_mode": {
    "name": "ipython",
    "version": 3
   },
   "file_extension": ".py",
   "mimetype": "text/x-python",
   "name": "python",
   "nbconvert_exporter": "python",
   "pygments_lexer": "ipython3",
   "version": "3.9.7"
  }
 },
 "nbformat": 4,
 "nbformat_minor": 5
}
