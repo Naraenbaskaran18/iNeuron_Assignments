{
 "cells": [
  {
   "cell_type": "raw",
   "id": "7916e565",
   "metadata": {},
   "source": [
    "1. Why are functions advantageous to have in your programs?\n",
    "\n",
    "Functions will enhance the structure, reusability, maintainability, and collaboration of our programs. "
   ]
  },
  {
   "cell_type": "raw",
   "id": "f4de62b4",
   "metadata": {},
   "source": [
    "2. When does the code in a function run: when it's specified or when it's called?\n",
    "\n",
    "The code inside a function runs when the function is called, not when it is specified or defined."
   ]
  },
  {
   "cell_type": "raw",
   "id": "269557dc",
   "metadata": {},
   "source": [
    "3. What statement creates a function?\n",
    "\n",
    "def function_name()"
   ]
  },
  {
   "cell_type": "raw",
   "id": "adaa07ee",
   "metadata": {},
   "source": [
    "4. What is the difference between a function and a function call?\n",
    "\n",
    "Function: A function is a named block of code that performs a specific task or action. It is defined using the def statement in Python. \n",
    "\n",
    "Function Call: A function call is the act of invoking or executing a function at a particular point in the program. "
   ]
  },
  {
   "cell_type": "raw",
   "id": "78ce6997",
   "metadata": {},
   "source": [
    "5. How many global scopes are there in a Python program? How many local scopes?\n",
    "\n",
    "In Python program has one global scope, which encompasses the entire program, and multiple local scopes, which are created within functions or code blocks. "
   ]
  },
  {
   "cell_type": "raw",
   "id": "df09542a",
   "metadata": {},
   "source": [
    "6. What happens to variables in a local scope when the function call returns?\n",
    "\n",
    "When a function call returns, the local variables defined within that function's local scope are destroyed and no longer accessible. This process is known as \"variable scope\" or \"variable lifetime.\""
   ]
  },
  {
   "cell_type": "raw",
   "id": "064369c8",
   "metadata": {},
   "source": [
    "7. What is the concept of a return value? Is it possible to have a return value in an expression?\n",
    "\n",
    "In Python, the return statement is used to specify the return value of a function. It allows the function to pass data or results back to the caller. The return value casn be seamlessly integrated into any expression's evaluation."
   ]
  },
  {
   "cell_type": "raw",
   "id": "81e29374",
   "metadata": {},
   "source": [
    "8. If a function does not have a return statement, what is the return value of a call to that function?\n",
    "\n",
    "None"
   ]
  },
  {
   "cell_type": "raw",
   "id": "f9427037",
   "metadata": {},
   "source": [
    "9. How do you make a function variable refer to the global variable?\n",
    "\n",
    "The global keyword allows you to indicate that a variable within a function should refer to the global variable with the same name."
   ]
  },
  {
   "cell_type": "raw",
   "id": "cb6b202d",
   "metadata": {},
   "source": [
    "10. What is the data type of None?\n",
    "\n",
    "he data type of None in Python is NoneType. None is a special object that represents the absence of a value or the lack of a specific return value."
   ]
  },
  {
   "cell_type": "raw",
   "id": "a3bdc41a",
   "metadata": {},
   "source": [
    "11. What does the sentence import areallyourpetsnamederic do?\n",
    "\n",
    "The sentence \"import areallyourpetsnamederic\" is not a valid Python import statement and would result in a ModuleNotFoundError when executed."
   ]
  },
  {
   "cell_type": "raw",
   "id": "36a0ad69",
   "metadata": {},
   "source": [
    "12. If you had a bacon() feature in a spam module, what would you call it after importing spam?\n",
    "\n",
    "import spam\n",
    "spam.bacon()\n",
    "\n",
    "We can call spam() by using above syntax"
   ]
  },
  {
   "cell_type": "raw",
   "id": "aec579e7",
   "metadata": {},
   "source": [
    "13. What can you do to save a programme from crashing if it encounters an error?\n",
    "\n",
    "The Python provides a built-in mechanism called \"exception handling\" that allows you to handle errors gracefully and prevent the program from abruptly terminating."
   ]
  },
  {
   "cell_type": "raw",
   "id": "d244d216",
   "metadata": {},
   "source": [
    "14. What is the purpose of the try clause? What is the purpose of the except clause?\n",
    "\n",
    "The try clause is used to enclose the code block where an exception might occur.\n",
    "The except clause is used to define the block of code that handles a specific exception or group of exceptions."
   ]
  },
  {
   "cell_type": "code",
   "execution_count": null,
   "id": "e5d6a9b2",
   "metadata": {},
   "outputs": [],
   "source": []
  }
 ],
 "metadata": {
  "kernelspec": {
   "display_name": "Python 3 (ipykernel)",
   "language": "python",
   "name": "python3"
  },
  "language_info": {
   "codemirror_mode": {
    "name": "ipython",
    "version": 3
   },
   "file_extension": ".py",
   "mimetype": "text/x-python",
   "name": "python",
   "nbconvert_exporter": "python",
   "pygments_lexer": "ipython3",
   "version": "3.9.7"
  }
 },
 "nbformat": 4,
 "nbformat_minor": 5
}
